{
 "cells": [
  {
   "cell_type": "markdown",
   "id": "6b14bdb4",
   "metadata": {},
   "source": [
    "# Установим psycopg2, если это необходимо (или другие библиотеки)"
   ]
  },
  {
   "cell_type": "code",
   "execution_count": null,
   "id": "f05beb95",
   "metadata": {},
   "outputs": [],
   "source": [
    "pip install psycopg2"
   ]
  },
  {
   "cell_type": "markdown",
   "id": "2eaef0ce",
   "metadata": {},
   "source": [
    "# Подключим все необходимые библиотеки для работы"
   ]
  },
  {
   "cell_type": "code",
   "execution_count": null,
   "id": "382efcad",
   "metadata": {},
   "outputs": [],
   "source": [
    "# Библиотека ConfigParser в ядре Python включает в себя модуль, под названием configparser, \n",
    "# который вы можете использовать для создания и работы с файлами конфигурации. \n",
    "from configparser import ConfigParser\n",
    "\n",
    "# Библиотека Psycopg2 для подключения к PostgreSQL, выполнения SQL-запросов и других операций с базой данных\n",
    "import psycopg2\n",
    "import psycopg2.extras as psql_extras\n",
    "\n",
    "# Модуль typing в Python для аннотации типов.\n",
    "from typing import Dict, List\n",
    "\n",
    "# Библиотека на языке Python для обработки и анализа данных.\n",
    "import pandas as pd\n",
    "\n",
    "print('Импорт библиотек завершен')"
   ]
  },
  {
   "cell_type": "markdown",
   "id": "35549400",
   "metadata": {},
   "source": [
    "# Создадим функции для дальнейшей работы с базой данных"
   ]
  },
  {
   "cell_type": "markdown",
   "id": "00ecb067",
   "metadata": {},
   "source": [
    "### Функция load_connection_info принимает на вход имя файла .ini, содержащего информацию о подключении к базе данных PostgreSQL, и возвращает словарь с этой информацией."
   ]
  },
  {
   "cell_type": "code",
   "execution_count": null,
   "id": "b44ef47b",
   "metadata": {},
   "outputs": [],
   "source": [
    "def load_connection_info(ini_filename: str) -> Dict[str, str]:\n",
    "    #Внутри функции используется стандартный модуль ConfigParser для чтения файла .ini.\n",
    "    parser = ConfigParser()\n",
    "    parser.read(ini_filename)\n",
    "    # С помощью метода items() объекта парсера мы получаем список кортежей, \n",
    "    # содержащих пары \"ключ-значение\" из раздела \"postgresql\" файла .ini.\n",
    "    conn_info = {param[0]: param[1] for param in parser.items(\"postgresql\")}\n",
    "    return conn_info"
   ]
  },
  {
   "cell_type": "markdown",
   "id": "0d4b7d7d",
   "metadata": {},
   "source": [
    "### Функция create_db принимает на вход словарь conn_info с информацией о подключении к базе данных PostgreSQL и создает новую базу данных"
   ]
  },
  {
   "cell_type": "code",
   "execution_count": null,
   "id": "bbb75ebf",
   "metadata": {},
   "outputs": [],
   "source": [
    "# Функция create_db принимает на вход словарь conn_info с информацией \n",
    "# о подключении к базе данных PostgreSQL и создает новую базу данных\n",
    "\n",
    "def create_db(conn_info: Dict[str, str],) -> None:\n",
    "    # Cоздаем строку подключения к базе данных с помощью значений из словаря conn_info\n",
    "    psql_connection_string = f\"host={conn_info['host']} port={conn_info['port']} user={conn_info['user']} password={conn_info['password']}\"\n",
    "    # Устанавливаем соединение с базой данных PostgreSQL\n",
    "    conn = psycopg2.connect(psql_connection_string)\n",
    "    # Создаем курсор для выполнения SQL-запросов\n",
    "    cur = conn.cursor()\n",
    "    # операция \"CREATE DATABASE\" требует автоматического завершения транзакции (commits)\n",
    "    conn.autocommit = True\n",
    "    # Формируем SQL-запрос на создание базы данных\n",
    "    sql_query = f\"CREATE DATABASE {conn_info['database']}\"\n",
    "\n",
    "    try:\n",
    "        # Выполняем SQL-запрос на создание базы данных\n",
    "        cur.execute(sql_query)\n",
    "    except Exception as e:\n",
    "        # Если произошла ошибка, выводим ее сообщение и SQL-запрос, который вызвал ошибку\n",
    "        print(f\"{type(e).__name__}: {e}\")\n",
    "        print(f\"Query: {cur.query}\")\n",
    "        cur.close()\n",
    "    else:\n",
    "        # Возвращаем отмену автозавершения транзакций\n",
    "        conn.autocommit = False"
   ]
  },
  {
   "cell_type": "markdown",
   "id": "f662d116",
   "metadata": {},
   "source": [
    "### Функция create_table принимает на вход SQL-запрос sql_query,соединение с базой данных conn и курсор для выполнения SQL-запросов cur"
   ]
  },
  {
   "cell_type": "code",
   "execution_count": null,
   "id": "ed124aeb",
   "metadata": {},
   "outputs": [],
   "source": [
    "def create_table(sql_query: str,conn: psycopg2.extensions.connection, cur:psycopg2.extensions.cursor) -> None:\n",
    "    try:\n",
    "        # В блоке try-except мы выполняем SQL-запрос на создание таблицы и обрабатываем возможные ошибки. \n",
    "        # Если произошла ошибка, мы выводим сообщение об ошибке и SQL-запрос, \n",
    "        # который вызвал ошибку, а затем откатываем транзакцию и закрываем курсор\n",
    "        cur.execute(sql_query)\n",
    "    except Exception as e:\n",
    "        print(f\"{type(e).__name__}: {e}\")\n",
    "        print(f\"Query: {cur.query}\")\n",
    "        conn.rollback()\n",
    "        cur.close()\n",
    "    else:\n",
    "        # Чтобы изменения вступили в силу, их необходимо зафиксировать в базе данных\n",
    "        conn.commit()"
   ]
  },
  {
   "cell_type": "markdown",
   "id": "b88ebc65",
   "metadata": {},
   "source": [
    "### Функция load_connection_info принимает на вход имя файла ini_filename, содержащего информацию о подключении к базе данных PostgreSQL."
   ]
  },
  {
   "cell_type": "code",
   "execution_count": null,
   "id": "dd7eaa48",
   "metadata": {},
   "outputs": [],
   "source": [
    "def load_connection_info(ini_filename: str) -> Dict[str, str]:\n",
    "    # Мы создаем объект парсера ConfigParser и\n",
    "    # считываем информацию из файла ini_filename\n",
    "    parser = ConfigParser()\n",
    "    parser.read(ini_filename)\n",
    "    # Создадим словарь переменных, хранящихся в разделе \"postgresql\" файла .ini\n",
    "    conn_info = {param[0]: param[1] for param in parser.items(\"postgresql\")}\n",
    "    # Функция возвращает словарь conn_info с информацией \n",
    "    # о подключении к базе данных PostgreSQL\n",
    "    return conn_info"
   ]
  },
  {
   "cell_type": "markdown",
   "id": "7af6d1ad",
   "metadata": {},
   "source": [
    "### Функция insert_data принимает на вход следующие параметры:\n",
    "### query - SQL-запрос для вставки данных в таблицу\n",
    "### conn - соединение с базой данных PostgreSQL\n",
    "### cur - курсор для выполнения SQL-запросов\n",
    "### df - DataFrame, содержащий данные для вставки в таблицу\n",
    "### page_size - размер страницы при вставке данных"
   ]
  },
  {
   "cell_type": "code",
   "execution_count": null,
   "id": "c868f1c4",
   "metadata": {},
   "outputs": [],
   "source": [
    "def insert_data(\n",
    "    query: str,\n",
    "    conn: psycopg2.extensions.connection,\n",
    "    cur: psycopg2.extensions.cursor,\n",
    "    df: pd.DataFrame,\n",
    "    page_size: int\n",
    ") -> None:\n",
    "    \n",
    "    # Создаем список кортежей data_tuples из строк DataFrame df, \n",
    "    # преобразованных в numpy-массивы и затем в кортежи\n",
    "    data_tuples = [tuple(row.to_numpy()) for index, row in df.iterrows()]\n",
    "\n",
    "    try:\n",
    "        # Выполняем массовую вставку данных с помощью метода execute_values из модуля psycopg2.extras\n",
    "        #В качестве аргументов передаем курсор, SQL-запрос, список кортежей data_tuples и размер страницы page_size\n",
    "        psql_extras.execute_values(\n",
    "            cur, query, data_tuples, page_size=page_size)\n",
    "        print(\"Запрос выполнен\")\n",
    "\n",
    "    except Exception as error:\n",
    "        # Если произошла ошибка при выполнении запроса, выводим тип ошибки и ее описание,\n",
    "        # а также запрос, который был выполнен до ошибки.\n",
    "        print(f\"{type(error).__name__}: {error}\")\n",
    "        print(\"Запрос:\", cur.query)\n",
    "        # Откатываем транзакцию и закрываем курсор.\n",
    "        conn.rollback()\n",
    "        cur.close()\n",
    "\n",
    "    else:\n",
    "        # Если запрос был успешно выполнен, фиксируем изменения в базе данных и закрываем курсор.\n",
    "        conn.commit()"
   ]
  },
  {
   "cell_type": "markdown",
   "id": "5404738d",
   "metadata": {},
   "source": [
    "### Функция get_column_names принимает на вход следующие параметры:\n",
    "### table - название таблицы в базе данных PostgreSQL\n",
    "### cur - курсор для выполнения SQL-запросов"
   ]
  },
  {
   "cell_type": "code",
   "execution_count": null,
   "id": "9137cd2c",
   "metadata": {},
   "outputs": [],
   "source": [
    "# Функция get_column_names принимает на вход следующие параметры:\n",
    "# table - название таблицы в базе данных PostgreSQL\n",
    "# cur - курсор для выполнения SQL-запросов\n",
    "\n",
    "def get_column_names(\n",
    "    table: str,\n",
    "    cur: psycopg2.extensions.cursor\n",
    ") -> List[str]:\n",
    "    # Выполняем SQL-запрос для получения списка названий столбцов таблицы table.\n",
    "    # Используем INFORMATION_SCHEMA.COLUMNS, чтобы получить информацию о столбцах таблицы.\n",
    "    # В запросе используем f-строку для подстановки названия таблицы.\n",
    "    cursor.execute(\n",
    "        f\"SELECT column_name FROM INFORMATION_SCHEMA.COLUMNS WHERE TABLE_NAME = '{table}';\")\n",
    "    # Получаем результат выполнения запроса с помощью метода fetchall и сохраняем его в переменную col_names.\n",
    "    # Используем list comprehension, чтобы получить список из первых элементов кортежей, содержащих названия столбцов.\n",
    "    col_names = [result[0] for result in cursor.fetchall()]\n",
    "    return col_names"
   ]
  },
  {
   "cell_type": "markdown",
   "id": "9e384954",
   "metadata": {},
   "source": [
    "### Функция принимает на вход следующие параметры:\n",
    "### query - SQL-запрос для получения данных из базы данных PostgreSQL\n",
    "### conn - соединение с базой данных\n",
    "### cur - курсор для выполнения SQL-запросов\n",
    "### df - фрейм данных pandas, в который будут добавлены извлеченные данные\n",
    "### col_names - список названий столбцов таблицы, из которой извлекаются данные"
   ]
  },
  {
   "cell_type": "code",
   "execution_count": null,
   "id": "b30a73a2",
   "metadata": {},
   "outputs": [],
   "source": [
    "def get_data_from_db(\n",
    "    query: str,\n",
    "    conn: psycopg2.extensions.connection,\n",
    "    cur: psycopg2.extensions.cursor,\n",
    "    df: pd.DataFrame,\n",
    "    col_names: List[str]\n",
    ") -> pd.DataFrame:\n",
    "    try:\n",
    "        # В блоке try выполняется SQL-запрос с помощью метода execute курсора cur.\n",
    "        cur.execute(query)\n",
    "        # Затем в цикле while извлекаются данные из запроса по 100 строк за раз с помощью метода fetchmany.\n",
    "        while True:\n",
    "            # Разберем следующие 100 строк таблицы\n",
    "            query_results = cur.fetchmany(100)\n",
    "            # Если метод возвращает пустой список, значит, все данные были извлечены, и цикл прерывается.\n",
    "            if query_results == list():\n",
    "                break\n",
    "\n",
    "            # Для каждой извлеченной строки создается словарь, в котором ключами являются названия столбцов таблицы,\n",
    "            # а значениями - соответствующие значения из строки.\n",
    "            # Созданный словарь добавляется в список results_mapped, который содержит все извлеченные строки.\n",
    "            results_mapped = [\n",
    "                {col_names[i]: row[i] for i in range(len(col_names))}\n",
    "                for row in query_results\n",
    "            ]\n",
    "\n",
    "            # Список results_mapped добавляется в фрейм данных df с помощью метода append.\n",
    "            # Параметр ignore_index=True указывает, что индексы строк должны быть пересчитаны.\n",
    "            df = df.append(results_mapped, ignore_index=True)\n",
    "\n",
    "        # Функция возвращает фрейм данных pandas с извлеченными данными.\n",
    "        return df\n",
    "\n",
    "    # В блоке except выводится сообщение об ошибке и откатывается транзакция.\n",
    "    except Exception as error:\n",
    "        print(f\"{type(error).__name__}: {error}\")\n",
    "        print(\"Query:\", cur.query)\n",
    "        conn.rollback()"
   ]
  },
  {
   "cell_type": "markdown",
   "id": "d573ece2",
   "metadata": {},
   "source": [
    "# Выполним подключение и создание базы данных"
   ]
  },
  {
   "cell_type": "code",
   "execution_count": null,
   "id": "3c4c4a14",
   "metadata": {},
   "outputs": [],
   "source": [
    "# host, port, database, user, password\n",
    "conn_info = load_connection_info(\"db.ini\")\n",
    "\n",
    "# Создаем желаемую базу данных\n",
    "# Название базы данных записано в файле .ini\n",
    "\n",
    "create_db(conn_info)  "
   ]
  },
  {
   "cell_type": "code",
   "execution_count": null,
   "id": "14c8fc3b",
   "metadata": {
    "scrolled": true
   },
   "outputs": [],
   "source": [
    "# Отобразим словарь из файла .ini\n",
    "conn_info"
   ]
  },
  {
   "cell_type": "markdown",
   "id": "7e782ca8",
   "metadata": {},
   "source": [
    "# Выполним запрос на создание таблицы"
   ]
  },
  {
   "cell_type": "code",
   "execution_count": null,
   "id": "d8c1065a",
   "metadata": {},
   "outputs": [],
   "source": [
    "# Создаем подключение к созданной базе данных\n",
    "connection = psycopg2.connect(**conn_info)\n",
    "cursor = connection.cursor()\n",
    "\n",
    "# Создание таблицы \n",
    "train_sql = \"\"\"\n",
    "    CREATE TABLE train_sound_DB (\n",
    "        subject_id INTEGER,\n",
    "        jitter_local NUMERIC,\n",
    "        jitter_local_abs NUMERIC,\n",
    "        jitter_rap NUMERIC,\n",
    "        jitter_ppq5 NUMERIC,\n",
    "        jitter_ddp NUMERIC,\n",
    "        shimmer_local NUMERIC,\n",
    "        shimmer_local_db NUMERIC,\n",
    "        shimmer_apq3 NUMERIC,\n",
    "        shimmer_apq5 NUMERIC,\n",
    "        shimmer_apq11 NUMERIC,\n",
    "        shimmer_dda NUMERIC,\n",
    "        AC NUMERIC,\n",
    "        NTH NUMERIC,\n",
    "        HTN NUMERIC,\n",
    "        median_pitch NUMERIC,\n",
    "        mean_pitch NUMERIC,\n",
    "        standard_deviation NUMERIC,\n",
    "        minimum_pitch NUMERIC,\n",
    "        maximum_pitch NUMERIC,\n",
    "        number_of_pulses NUMERIC,\n",
    "        number_of_periods NUMERIC,\n",
    "        mean_period NUMERIC,\n",
    "        standard_deviation_of_period NUMERIC,\n",
    "        fraction_of_locally_unvoiced_frames NUMERIC,\n",
    "        number_of_voice_breaks NUMERIC,\n",
    "        degree_of_voice_breaks NUMERIC,\n",
    "        UPDRS NUMERIC,\n",
    "        class_information INTEGER\n",
    ");\n",
    "\n",
    "    \"\"\"\n",
    "create_table(train_sql, connection, cursor)"
   ]
  },
  {
   "cell_type": "code",
   "execution_count": null,
   "id": "81c133b9",
   "metadata": {},
   "outputs": [],
   "source": [
    "# Закрываем соединение с базой данных\n",
    "connection.close()\n",
    "cursor.close()"
   ]
  },
  {
   "cell_type": "code",
   "execution_count": null,
   "id": "8b07994c",
   "metadata": {},
   "outputs": [],
   "source": [
    "# Читаем файл с разделителем \",\"\n",
    "df = pd.read_csv('train_data.txt', delimiter=',', header=None)\n",
    "\n",
    "# Выводим первые 5 строк без столбца с номерами строк\n",
    "print(df.head(5).to_string(index=False, header=None))"
   ]
  },
  {
   "cell_type": "code",
   "execution_count": null,
   "id": "31d99532",
   "metadata": {},
   "outputs": [],
   "source": [
    "# Создаем подключение к созданной базе данных\n",
    "connection = psycopg2.connect(**conn_info)\n",
    "cursor = connection.cursor()\n",
    "\n",
    "# Выполняем запрос на добавление данных из ds\n",
    "data_query = \"INSERT INTO train_sound_DB VALUES %s\"\n",
    "insert_data(data_query, connection, cursor, df, 100)\n",
    "\n",
    "# Закрываем соединение с базой данных\n",
    "connection.close()\n",
    "cursor.close()"
   ]
  }
 ],
 "metadata": {
  "kernelspec": {
   "display_name": "Python 3 (ipykernel)",
   "language": "python",
   "name": "python3"
  },
  "language_info": {
   "codemirror_mode": {
    "name": "ipython",
    "version": 3
   },
   "file_extension": ".py",
   "mimetype": "text/x-python",
   "name": "python",
   "nbconvert_exporter": "python",
   "pygments_lexer": "ipython3",
   "version": "3.9.13"
  }
 },
 "nbformat": 4,
 "nbformat_minor": 5
}
